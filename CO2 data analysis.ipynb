{
 "cells": [
  {
   "cell_type": "code",
   "execution_count": 1,
   "metadata": {},
   "outputs": [],
   "source": [
    "import numpy as np\n",
    "import pandas as pd\n",
    "from matplotlib import pyplot as plt"
   ]
  },
  {
   "cell_type": "code",
   "execution_count": 2,
   "metadata": {},
   "outputs": [],
   "source": [
    "df=pd.read_csv(\"co2-data.csv\")"
   ]
  },
  {
   "cell_type": "code",
   "execution_count": 3,
   "metadata": {
    "scrolled": true
   },
   "outputs": [
    {
     "name": "stdout",
     "output_type": "stream",
     "text": [
      "  iso_code      country  year    co2  co2_growth_prct  co2_growth_abs  \\\n",
      "0      AFG  Afghanistan  1949  0.015              NaN             NaN   \n",
      "1      AFG  Afghanistan  1950  0.084          475.000           0.070   \n",
      "2      AFG  Afghanistan  1951  0.092            8.696           0.007   \n",
      "3      AFG  Afghanistan  1952  0.092              NaN             NaN   \n",
      "4      AFG  Afghanistan  1953  0.106           16.000           0.015   \n",
      "5      AFG  Afghanistan  1954  0.106              NaN             NaN   \n",
      "6      AFG  Afghanistan  1955  0.154           44.828           0.048   \n",
      "7      AFG  Afghanistan  1956  0.183           19.048           0.029   \n",
      "8      AFG  Afghanistan  1957  0.293           60.000           0.110   \n",
      "9      AFG  Afghanistan  1958  0.330           12.500           0.037   \n",
      "\n",
      "   consumption_co2  trade_co2  trade_co2_share  co2_per_capita  ...  \\\n",
      "0              NaN        NaN              NaN           0.002  ...   \n",
      "1              NaN        NaN              NaN           0.011  ...   \n",
      "2              NaN        NaN              NaN           0.012  ...   \n",
      "3              NaN        NaN              NaN           0.012  ...   \n",
      "4              NaN        NaN              NaN           0.013  ...   \n",
      "5              NaN        NaN              NaN           0.013  ...   \n",
      "6              NaN        NaN              NaN           0.019  ...   \n",
      "7              NaN        NaN              NaN           0.022  ...   \n",
      "8              NaN        NaN              NaN           0.034  ...   \n",
      "9              NaN        NaN              NaN           0.038  ...   \n",
      "\n",
      "   ghg_per_capita  methane  methane_per_capita  nitrous_oxide  \\\n",
      "0             NaN      NaN                 NaN            NaN   \n",
      "1             NaN      NaN                 NaN            NaN   \n",
      "2             NaN      NaN                 NaN            NaN   \n",
      "3             NaN      NaN                 NaN            NaN   \n",
      "4             NaN      NaN                 NaN            NaN   \n",
      "5             NaN      NaN                 NaN            NaN   \n",
      "6             NaN      NaN                 NaN            NaN   \n",
      "7             NaN      NaN                 NaN            NaN   \n",
      "8             NaN      NaN                 NaN            NaN   \n",
      "9             NaN      NaN                 NaN            NaN   \n",
      "\n",
      "   nitrous_oxide_per_capita  primary_energy_consumption  energy_per_capita  \\\n",
      "0                       NaN                         NaN                NaN   \n",
      "1                       NaN                         NaN                NaN   \n",
      "2                       NaN                         NaN                NaN   \n",
      "3                       NaN                         NaN                NaN   \n",
      "4                       NaN                         NaN                NaN   \n",
      "5                       NaN                         NaN                NaN   \n",
      "6                       NaN                         NaN                NaN   \n",
      "7                       NaN                         NaN                NaN   \n",
      "8                       NaN                         NaN                NaN   \n",
      "9                       NaN                         NaN                NaN   \n",
      "\n",
      "   energy_per_gdp  population           gdp  \n",
      "0             NaN   7663783.0           NaN  \n",
      "1             NaN   7752000.0  1.949480e+10  \n",
      "2             NaN   7840000.0  2.006385e+10  \n",
      "3             NaN   7936000.0  2.074235e+10  \n",
      "4             NaN   8040000.0  2.201546e+10  \n",
      "5             NaN   8151000.0  2.248333e+10  \n",
      "6             NaN   8271000.0  2.292989e+10  \n",
      "7             NaN   8399000.0  2.395993e+10  \n",
      "8             NaN   8535000.0  2.396191e+10  \n",
      "9             NaN   8680000.0  2.530744e+10  \n",
      "\n",
      "[10 rows x 55 columns]\n"
     ]
    }
   ],
   "source": [
    "print(df.head(10))"
   ]
  },
  {
   "cell_type": "code",
   "execution_count": 4,
   "metadata": {},
   "outputs": [
    {
     "data": {
      "text/plain": [
       "array(['AFG', nan, 'ALB', 'DZA', 'AND', 'AGO', 'AIA', 'ATG', 'ARG', 'ARM',\n",
       "       'ABW', 'AUS', 'AUT', 'AZE', 'BHS', 'BHR', 'BGD', 'BRB', 'BLR',\n",
       "       'BEL', 'BLZ', 'BEN', 'BMU', 'BTN', 'BOL', 'BES', 'BIH', 'BWA',\n",
       "       'BRA', 'VGB', 'BRN', 'BGR', 'BFA', 'BDI', 'KHM', 'CMR', 'CAN',\n",
       "       'CPV', 'CAF', 'TCD', 'CHL', 'CHN', 'CXR', 'COL', 'COM', 'COG',\n",
       "       'COK', 'CRI', 'CIV', 'HRV', 'CUB', 'CYP', 'CZE', 'COD', 'DNK',\n",
       "       'DJI', 'DMA', 'DOM', 'ECU', 'EGY', 'SLV', 'GNQ', 'ERI', 'EST',\n",
       "       'SWZ', 'ETH', 'FRO', 'FJI', 'FIN', 'FRA', 'PYF', 'GAB', 'GMB',\n",
       "       'GEO', 'DEU', 'GHA', 'GRC', 'GRL', 'GRD', 'GTM', 'GIN', 'GNB',\n",
       "       'GUY', 'HTI', 'HND', 'HKG', 'HUN', 'ISL', 'IND', 'IDN', 'IRN',\n",
       "       'IRQ', 'IRL', 'ISR', 'ITA', 'JAM', 'JPN', 'JOR', 'KAZ', 'KEN',\n",
       "       'KIR', 'OWID_KOS', 'KWT', 'KGZ', 'LAO', 'LVA', 'LBN', 'LSO', 'LBR',\n",
       "       'LBY', 'LIE', 'LTU', 'LUX', 'MDG', 'MWI', 'MYS', 'MDV', 'MLI',\n",
       "       'MLT', 'MHL', 'MRT', 'MUS', 'MEX', 'MDA', 'MNG', 'MNE', 'MSR',\n",
       "       'MAR', 'MOZ', 'MMR', 'NAM', 'NRU', 'NPL', 'NLD', 'NCL', 'NZL',\n",
       "       'NIC', 'NER', 'NGA', 'NIU', 'PRK', 'MKD', 'NOR', 'OMN', 'PAK',\n",
       "       'PLW', 'PSE', 'PAN', 'PNG', 'PRY', 'PER', 'PHL', 'POL', 'PRT',\n",
       "       'PRI', 'QAT', 'ROU', 'RUS', 'RWA', 'SHN', 'KNA', 'LCA', 'SPM',\n",
       "       'VCT', 'WSM', 'STP', 'SAU', 'SEN', 'SRB', 'SYC', 'SLE', 'SGP',\n",
       "       'SXM', 'SVK', 'SVN', 'SLB', 'SOM', 'ZAF', 'KOR', 'SSD', 'ESP',\n",
       "       'LKA', 'SDN', 'SUR', 'SWE', 'CHE', 'SYR', 'TWN', 'TJK', 'TZA',\n",
       "       'THA', 'TLS', 'TGO', 'TON', 'TTO', 'TUN', 'TUR', 'TKM', 'TCA',\n",
       "       'TUV', 'UGA', 'UKR', 'ARE', 'GBR', 'USA', 'URY', 'UZB', 'VUT',\n",
       "       'VEN', 'VNM', 'WLF', 'OWID_WRL', 'YEM', 'ZMB', 'ZWE'], dtype=object)"
      ]
     },
     "execution_count": 4,
     "metadata": {},
     "output_type": "execute_result"
    }
   ],
   "source": [
    "#all ISO codes\n",
    "df[\"iso_code\"].unique()"
   ]
  },
  {
   "cell_type": "code",
   "execution_count": 5,
   "metadata": {},
   "outputs": [],
   "source": [
    "df3=df.groupby(\"country\").co2.sum().reset_index()"
   ]
  },
  {
   "cell_type": "code",
   "execution_count": 6,
   "metadata": {},
   "outputs": [
    {
     "data": {
      "text/html": [
       "<div>\n",
       "<style scoped>\n",
       "    .dataframe tbody tr th:only-of-type {\n",
       "        vertical-align: middle;\n",
       "    }\n",
       "\n",
       "    .dataframe tbody tr th {\n",
       "        vertical-align: top;\n",
       "    }\n",
       "\n",
       "    .dataframe thead th {\n",
       "        text-align: right;\n",
       "    }\n",
       "</style>\n",
       "<table border=\"1\" class=\"dataframe\">\n",
       "  <thead>\n",
       "    <tr style=\"text-align: right;\">\n",
       "      <th></th>\n",
       "      <th>country</th>\n",
       "      <th>co2</th>\n",
       "    </tr>\n",
       "  </thead>\n",
       "  <tbody>\n",
       "    <tr>\n",
       "      <th>0</th>\n",
       "      <td>Afghanistan</td>\n",
       "      <td>181.377</td>\n",
       "    </tr>\n",
       "    <tr>\n",
       "      <th>1</th>\n",
       "      <td>Africa</td>\n",
       "      <td>45881.563</td>\n",
       "    </tr>\n",
       "    <tr>\n",
       "      <th>2</th>\n",
       "      <td>Albania</td>\n",
       "      <td>282.496</td>\n",
       "    </tr>\n",
       "    <tr>\n",
       "      <th>3</th>\n",
       "      <td>Algeria</td>\n",
       "      <td>4445.487</td>\n",
       "    </tr>\n",
       "    <tr>\n",
       "      <th>4</th>\n",
       "      <td>Andorra</td>\n",
       "      <td>14.543</td>\n",
       "    </tr>\n",
       "  </tbody>\n",
       "</table>\n",
       "</div>"
      ],
      "text/plain": [
       "       country        co2\n",
       "0  Afghanistan    181.377\n",
       "1       Africa  45881.563\n",
       "2      Albania    282.496\n",
       "3      Algeria   4445.487\n",
       "4      Andorra     14.543"
      ]
     },
     "execution_count": 6,
     "metadata": {},
     "output_type": "execute_result"
    }
   ],
   "source": [
    "df3.head()"
   ]
  },
  {
   "cell_type": "code",
   "execution_count": 7,
   "metadata": {},
   "outputs": [],
   "source": [
    "df4=df3.sort_values(\"co2\",ascending=False)"
   ]
  },
  {
   "cell_type": "code",
   "execution_count": 8,
   "metadata": {},
   "outputs": [],
   "source": [
    "df4=df4.head(10)"
   ]
  },
  {
   "cell_type": "code",
   "execution_count": 9,
   "metadata": {},
   "outputs": [],
   "source": [
    "df4=df4[1:]"
   ]
  },
  {
   "cell_type": "code",
   "execution_count": 10,
   "metadata": {},
   "outputs": [
    {
     "data": {
      "image/png": "[encoded data removed]",
      "text/plain": [
       "<Figure size 432x288 with 1 Axes>"
      ]
     },
     "metadata": {
      "needs_background": "light"
     },
     "output_type": "display_data"
    }
   ],
   "source": [
    "x_values=df4[\"country\"]\n",
    "y_values=df4[\"co2\"]\n",
    "plt.bar(x_values,y_values)\n",
    "plt.xticks(rotation=70)\n",
    "plt.show()"
   ]
  },
  {
   "cell_type": "code",
   "execution_count": null,
   "metadata": {},
   "outputs": [],
   "source": []
  }
 ],
 "metadata": {
  "kernelspec": {
   "display_name": "Python 3",
   "language": "python",
   "name": "python3"
  },
  "language_info": {
   "codemirror_mode": {
    "name": "ipython",
    "version": 3
   },
   "file_extension": ".py",
   "mimetype": "text/x-python",
   "name": "python",
   "nbconvert_exporter": "python",
   "pygments_lexer": "ipython3",
   "version": "3.7.6"
  }
 },
 "nbformat": 4,
 "nbformat_minor": 4
}
